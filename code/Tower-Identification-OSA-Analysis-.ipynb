{
 "cells": [
  {
   "cell_type": "markdown",
   "metadata": {},
   "source": [
    "# Cooling Tower Identification: MODA Analysis"
   ]
  },
  {
   "cell_type": "markdown",
   "metadata": {},
   "source": [
    "#### Import dependencies\n",
    "\n",
    "* This was written in Python 2.7"
   ]
  },
  {
   "cell_type": "code",
   "execution_count": 1,
   "metadata": {},
   "outputs": [
    {
     "name": "stderr",
     "output_type": "stream",
     "text": [
      "/home/srimmele/anaconda2/lib/python2.7/site-packages/sklearn/cross_validation.py:44: DeprecationWarning: This module was deprecated in version 0.18 in favor of the model_selection module into which all the refactored classes and functions are moved. Also note that the interface of the new CV iterators are different from that of this module. This module will be removed in 0.20.\n",
      "  \"This module will be removed in 0.20.\", DeprecationWarning)\n"
     ]
    }
   ],
   "source": [
    "import sys as sys\n",
    "import os\n",
    "import pandas as pd\n",
    "import numpy as np\n",
    "import warnings; warnings.simplefilter('ignore') # just for presentation purposes \n",
    "\n",
    "from patsy import dmatrices\n",
    "from sklearn.linear_model import LogisticRegression\n",
    "from sklearn.cross_validation import train_test_split\n",
    "from sklearn import metrics\n",
    "\n",
    "\n",
    "import matplotlib.pyplot as plt\n",
    "import seaborn as sns\n",
    "from matplotlib import style\n",
    "style.use('seaborn-notebook')\n",
    "%matplotlib inline\n",
    "\n",
    "\n",
    "\n",
    "np.random.seed(100)"
   ]
  },
  {
   "cell_type": "code",
   "execution_count": 2,
   "metadata": {
    "collapsed": true
   },
   "outputs": [],
   "source": [
    "data_path = \"../data/tower_data.csv\"\n",
    "\n",
    "if os.path.isfile(data_path):\n",
    "    tower_data = pd.read_csv(data_path)\n",
    "else:\n",
    "    print 'run Tower-Identification-OSA-Data notebook first'"
   ]
  },
  {
   "cell_type": "code",
   "execution_count": 3,
   "metadata": {
    "collapsed": true
   },
   "outputs": [],
   "source": [
    "###Some helper functions\n",
    "\n",
    "def Remove_Dummy_BINS(df):\n",
    "    '''\n",
    "    removes illegitimate BINs from input dataframe.\n",
    "    '''\n",
    "    dummy_BINs = [1000000 , 2000000, 3000000, 4000000, 5000000]\n",
    "    df = df[~df.BIN.isin(dummy_BINs)]\n",
    "    return df\n",
    "\n",
    "\n",
    "def CleanInputData(df):\n",
    "    '''\n",
    "    Performs cleaning on input tower_data, see comments below\n",
    "    '''\n",
    "    exclude_BC = ['A','B','V']                      # Removing single-family, 2-family, vacant land\n",
    "    testset    = df[~df['BC'].isin(exclude_BC)]    \n",
    "    testset    = testset[testset.BldgArea != 0]     # removing any buildings with no reported area\n",
    "    testset    = testset[testset.NumFloors != 0]    # removing any buildings with no report floors\n",
    "    return testset"
   ]
  },
  {
   "cell_type": "markdown",
   "metadata": {},
   "source": [
    "## Exploratory Analysis\n",
    "\n",
    "There are so many potentially relevant characteristics available in PLUTO. One very relevant factor is a building's class, which can indicate a lot about what's inside a building (and what needs to be kept cool).\n",
    "\n",
    "\n",
    "Building Class Codes can be found in the appendix of the [PLUTO Data Dictionary](https://www.google.com/url?sa=t&rct=j&q=&esrc=s&source=web&cd=1&cad=rja&uact=8&ved=0ahUKEwiNgdrMp-nWAhUFOiYKHYWoACMQFggoMAA&url=https%3A%2F%2Fwww1.nyc.gov%2Fassets%2Fplanning%2Fdownload%2Fpdf%2Fdata-maps%2Fopen-data%2Fpluto_datadictionary.pdf%3Fr%3D16v2&usg=AOvVaw1-CEPaXRsh0VS-bz9UKkb9)"
   ]
  },
  {
   "cell_type": "code",
   "execution_count": 4,
   "metadata": {
    "scrolled": true
   },
   "outputs": [
    {
     "data": {
      "image/png": "[encoded data removed]",
      "text/plain": [
       "<matplotlib.figure.Figure at 0x7fe9735b9890>"
      ]
     },
     "metadata": {},
     "output_type": "display_data"
    }
   ],
   "source": [
    "floor_bin = np.concatenate((np.arange(0,11,2) , [15,20,30,50,100]), axis=0)\n",
    "\n",
    "tower_data['FLOOR_BIN'] = pd.cut(tower_data.NumFloors,floor_bin)\n",
    "\n",
    "pivot = tower_data.pivot_table(index='FLOOR_BIN',columns='BC',values='Identified',aggfunc='sum')\n",
    "\n",
    "hmap = sns.heatmap(pivot.fillna(0), cmap=\"Blues\");\n",
    "\n",
    "hmap.set(xlabel='Building Class Code', ylabel='Number of Floors', alpha=0.8, title = '# of Cooling Towers');\n"
   ]
  },
  {
   "cell_type": "markdown",
   "metadata": {},
   "source": [
    "## More Data Preparation\n"
   ]
  },
  {
   "cell_type": "code",
   "execution_count": 5,
   "metadata": {},
   "outputs": [
    {
     "name": "stdout",
     "output_type": "stream",
     "text": [
      "246335\n"
     ]
    }
   ],
   "source": [
    "## Cleaning the input data before running any models. We don't want to include people's homes who would not have\n",
    "## commercial cooling units. \n",
    "\n",
    "testset = CleanInputData(tower_data)\n",
    "print len(testset)"
   ]
  },
  {
   "cell_type": "markdown",
   "metadata": {},
   "source": [
    "#### Specify a model\n",
    "\n",
    "It it tempting to include every available variable, but this can lead to a model that fits the training data extremely well but does not generalize."
   ]
  },
  {
   "cell_type": "code",
   "execution_count": 6,
   "metadata": {},
   "outputs": [
    {
     "name": "stdout",
     "output_type": "stream",
     "text": [
      "Identified ~ Log_BldgArea + NumFloors + OfficeArea + RetailArea + ComArea + C(BC) + C(BoroCode)\n",
      "246335\n",
      "246334\n"
     ]
    }
   ],
   "source": [
    "# Lots of variables available, Adding too many leads to overfitting.\n",
    "\n",
    "## Numerical Variables\n",
    "I_Vars = [ 'Log_BldgArea', 'NumFloors', 'OfficeArea' , 'RetailArea', 'ComArea'] #,'LotArea','ComArea','ResArea','OfficeArea','RetailArea',\\\n",
    "          #'GarageArea','StrgeArea','FactryArea','OtherArea', 'OtherArea','NumBldgs',\\\n",
    "          #'UnitsRes','UnitsTotal','LotFront','BldgFront','LotDepth','BldgDepth','AssessLand',\\\n",
    "          #'ExemptLand','YearBuilt','BuiltFAR','ResidFAR','FacilFAR','CommFAR']\n",
    "\n",
    "## Categorial Variables\n",
    "C_Vars = ['BC', 'BoroCode']#,'LotType','BsmtCode'\n",
    "\n",
    "C_Vars_format = [ 'C('+ c + ')' for c in C_Vars  ]\n",
    "\n",
    "s = ' + '\n",
    "\n",
    "Deps = s.join(I_Vars)\n",
    "Cats = s.join(C_Vars_format)\n",
    "\n",
    "Spec = 'Identified ~ ' + Deps + ' + ' + Cats\n",
    "Spec_I = 'Identified ~ ' + Deps \n",
    "Spec_C = 'Identified ~ ' + Cats \n",
    "\n",
    "\n",
    "print Spec # this is the model string for logistic regression\n",
    "\n",
    "\n",
    "print len(testset)\n",
    "\n",
    "## Dropping records that aren't valid for the variables in question\n",
    "testset.dropna(subset=C_Vars, inplace=True)\n",
    "testset.dropna(subset=I_Vars, inplace=True)\n",
    "\n",
    "print len(testset) # appears to be only one \n",
    "\n",
    "\n",
    "for c in C_Vars:\n",
    "    testset[[c]] = testset[c].astype(str)"
   ]
  },
  {
   "cell_type": "markdown",
   "metadata": {},
   "source": [
    "### Splitting into training and testing data (30% testing)"
   ]
  },
  {
   "cell_type": "code",
   "execution_count": 7,
   "metadata": {},
   "outputs": [],
   "source": [
    "y, X = dmatrices(Spec,testset,return_type=\"dataframe\")\n",
    "\n",
    "## choice to normalize variables if wanted, makes a difference with the SVM classifier\n",
    "normed = X[I_Vars] \n",
    "normed = (normed - normed.mean()) / normed.std()\n",
    "X.update(normed)\n",
    "\n",
    "y = np.ravel(y)\n",
    "\n",
    "X_train, X_test, y_train, y_test = train_test_split(X, y, test_size=0.3, random_state=0)\n"
   ]
  },
  {
   "cell_type": "markdown",
   "metadata": {},
   "source": [
    "## Testing a simple logistic regression with varying regularization\n",
    "\n",
    "\n"
   ]
  },
  {
   "cell_type": "code",
   "execution_count": 8,
   "metadata": {},
   "outputs": [
    {
     "name": "stdout",
     "output_type": "stream",
     "text": [
      "(inverse) regularization: 1e-05\n",
      "             precision    recall  f1-score   support\n",
      "\n",
      "        0.0       0.99      1.00      1.00     73355\n",
      "        1.0       0.80      0.15      0.25       546\n",
      "\n",
      "avg / total       0.99      0.99      0.99     73901\n",
      "\n",
      "\n",
      " score: 0.96119262216\n",
      "(inverse) regularization: 0.0001\n",
      "             precision    recall  f1-score   support\n",
      "\n",
      "        0.0       0.99      1.00      1.00     73355\n",
      "        1.0       0.79      0.22      0.34       546\n",
      "\n",
      "avg / total       0.99      0.99      0.99     73901\n",
      "\n",
      "\n",
      " score: 0.971269265349\n",
      "(inverse) regularization: 0.001\n",
      "             precision    recall  f1-score   support\n",
      "\n",
      "        0.0       0.99      1.00      1.00     73355\n",
      "        1.0       0.73      0.27      0.40       546\n",
      "\n",
      "avg / total       0.99      0.99      0.99     73901\n",
      "\n",
      "\n",
      " score: 0.983678336296\n",
      "(inverse) regularization: 0.01\n",
      "             precision    recall  f1-score   support\n",
      "\n",
      "        0.0       0.99      1.00      1.00     73355\n",
      "        1.0       0.71      0.30      0.43       546\n",
      "\n",
      "avg / total       0.99      0.99      0.99     73901\n",
      "\n",
      "\n",
      " score: 0.986472940188\n",
      "(inverse) regularization: 0.1\n",
      "             precision    recall  f1-score   support\n",
      "\n",
      "        0.0       1.00      1.00      1.00     73355\n",
      "        1.0       0.67      0.34      0.46       546\n",
      "\n",
      "avg / total       0.99      0.99      0.99     73901\n",
      "\n",
      "\n",
      " score: 0.988886338028\n",
      "(inverse) regularization: 1.0\n",
      "             precision    recall  f1-score   support\n",
      "\n",
      "        0.0       1.00      1.00      1.00     73355\n",
      "        1.0       0.67      0.36      0.47       546\n",
      "\n",
      "avg / total       0.99      0.99      0.99     73901\n",
      "\n",
      "\n",
      " score: 0.990121912032\n",
      "(inverse) regularization: 10.0\n",
      "             precision    recall  f1-score   support\n",
      "\n",
      "        0.0       1.00      1.00      1.00     73355\n",
      "        1.0       0.67      0.37      0.47       546\n",
      "\n",
      "avg / total       0.99      0.99      0.99     73901\n",
      "\n",
      "\n",
      " score: 0.990351539493\n",
      "(inverse) regularization: 100.0\n",
      "             precision    recall  f1-score   support\n",
      "\n",
      "        0.0       1.00      1.00      1.00     73355\n",
      "        1.0       0.67      0.36      0.47       546\n",
      "\n",
      "avg / total       0.99      0.99      0.99     73901\n",
      "\n",
      "\n",
      " score: 0.990368991879\n",
      "(inverse) regularization: 1000.0\n",
      "             precision    recall  f1-score   support\n",
      "\n",
      "        0.0       1.00      1.00      1.00     73355\n",
      "        1.0       0.67      0.36      0.47       546\n",
      "\n",
      "avg / total       0.99      0.99      0.99     73901\n",
      "\n",
      "\n",
      " score: 0.990370789549\n",
      "(inverse) regularization: 10000.0\n",
      "             precision    recall  f1-score   support\n",
      "\n",
      "        0.0       1.00      1.00      1.00     73355\n",
      "        1.0       0.67      0.36      0.47       546\n",
      "\n",
      "avg / total       0.99      0.99      0.99     73901\n",
      "\n",
      "\n",
      " score: 0.990370914388\n"
     ]
    }
   ],
   "source": [
    "for c in np.arange(-5,5):\n",
    "    \n",
    "    model =   LogisticRegression(C=10.0**c, penalty='l2')\n",
    "    model.fit(X_train, y_train)\n",
    "    \n",
    "    predicted = model.predict(X_test)\n",
    "    print '(inverse) regularization: ' + str(10.0**c)\n",
    "    \n",
    "    print metrics.classification_report(y_test,predicted )\n",
    "    probs = model.predict_proba(X_test)\n",
    "    \n",
    "    print '\\n score: ' + str(metrics.roc_auc_score(y_test, probs[:, 1]))\n"
   ]
  },
  {
   "cell_type": "code",
   "execution_count": 9,
   "metadata": {
    "collapsed": true
   },
   "outputs": [],
   "source": [
    "def ModelSummary(y_test, predicted):\n",
    "\n",
    "    TP = float(metrics.confusion_matrix(y_test, predicted)[1][1] ) # true positive\n",
    "    FP = float(metrics.confusion_matrix(y_test, predicted)[0][1] ) # false positive\n",
    "    FN = float(metrics.confusion_matrix(y_test, predicted)[1][0] ) # false negative\n",
    "    TN = float(metrics.confusion_matrix(y_test, predicted)[0][0] ) # true negative\n",
    "\n",
    "    print 'Recall %.3f' % (TP/(TP+FN))\n",
    "    print 'Precision %.3f' % (TP/(TP+FP))\n",
    "    print '%.3f of buildings sampled have towers' % (sum(y)/len(y))\n"
   ]
  },
  {
   "cell_type": "markdown",
   "metadata": {},
   "source": [
    "### Results\n",
    "\n",
    "* We are identifying on the order of 30% of true towers in the testing set, not ideal\n",
    "* But, 65-70% of our predicted towers are true towers, not bad when compared to picking randomly (< 1%)\n"
   ]
  },
  {
   "cell_type": "code",
   "execution_count": 10,
   "metadata": {},
   "outputs": [
    {
     "name": "stdout",
     "output_type": "stream",
     "text": [
      "Recall 0.363\n",
      "Precision 0.669\n",
      "0.007 of buildings sampled have towers\n"
     ]
    }
   ],
   "source": [
    "ModelSummary(y_test, predicted)"
   ]
  },
  {
   "cell_type": "markdown",
   "metadata": {},
   "source": [
    "### Another way of showing this with a ROC curve\n",
    "\n",
    "Aiming for higher recall (y-axis) will dramatically increase the the false-positive-rate (x-axis). The false positive problem is particularly important in the cooling towers case, because the classes are so imbalanced - less than 1% of buildings are identified with a cooling tower. "
   ]
  },
  {
   "cell_type": "code",
   "execution_count": 11,
   "metadata": {},
   "outputs": [
    {
     "data": {
      "image/png": "[encoded data removed]",
      "text/plain": [
       "<matplotlib.figure.Figure at 0x7fe97713ba10>"
      ]
     },
     "metadata": {},
     "output_type": "display_data"
    }
   ],
   "source": [
    "n_classes = 2\n",
    "\n",
    "FPR = dict()\n",
    "TPR = dict()\n",
    "\n",
    "roc_auc = dict()\n",
    "for i in range(n_classes):\n",
    "    FPR[i], TPR[i], _ = metrics.roc_curve(y_test, probs[:, i])\n",
    "    roc_auc[i] = metrics.auc(FPR[i], TPR[i])\n",
    "\n",
    "\n",
    "    \n",
    "plt.figure()\n",
    "plt.plot(FPR[1], TPR[1], label='ROC curve (AUROC = %0.2f)' % roc_auc[1])\n",
    "plt.plot([0, 1], [0, 1], 'k--')\n",
    "plt.xlim([0.0, 1.0])\n",
    "plt.ylim([0.0, 1.05])\n",
    "\n",
    "plt.xlabel('False Positive Rate')\n",
    "plt.ylabel('True Positive Rate')\n",
    "plt.title('ROC Curve For Tower Identification Model ')\n",
    "plt.legend(loc=\"lower right\")\n",
    "\n",
    "plt.show()\n"
   ]
  },
  {
   "cell_type": "markdown",
   "metadata": {},
   "source": [
    "## Another classifier: support vector machine \n"
   ]
  },
  {
   "cell_type": "code",
   "execution_count": 12,
   "metadata": {},
   "outputs": [
    {
     "name": "stdout",
     "output_type": "stream",
     "text": [
      "             precision    recall  f1-score   support\n",
      "\n",
      "        0.0       0.99      1.00      1.00     73355\n",
      "        1.0       0.75      0.29      0.42       546\n",
      "\n",
      "avg / total       0.99      0.99      0.99     73901\n",
      "\n",
      "             precision    recall  f1-score   support\n",
      "\n",
      "        0.0       1.00      0.99      1.00     73355\n",
      "        1.0       0.45      0.59      0.51       546\n",
      "\n",
      "avg / total       0.99      0.99      0.99     73901\n",
      "\n",
      "             precision    recall  f1-score   support\n",
      "\n",
      "        0.0       1.00      0.99      0.99     73355\n",
      "        1.0       0.31      0.76      0.44       546\n",
      "\n",
      "avg / total       0.99      0.99      0.99     73901\n",
      "\n",
      "             precision    recall  f1-score   support\n",
      "\n",
      "        0.0       1.00      0.98      0.99     73355\n",
      "        1.0       0.28      0.79      0.42       546\n",
      "\n",
      "avg / total       0.99      0.98      0.99     73901\n",
      "\n",
      "             precision    recall  f1-score   support\n",
      "\n",
      "        0.0       1.00      0.98      0.99     73355\n",
      "        1.0       0.27      0.80      0.40       546\n",
      "\n",
      "avg / total       0.99      0.98      0.99     73901\n",
      "\n",
      "             precision    recall  f1-score   support\n",
      "\n",
      "        0.0       1.00      0.98      0.99     73355\n",
      "        1.0       0.23      0.88      0.36       546\n",
      "\n",
      "avg / total       0.99      0.98      0.98     73901\n",
      "\n"
     ]
    }
   ],
   "source": [
    "from sklearn import svm\n",
    "\n",
    "# Option to give more class-weight to identified cooling towers because they are very sparse in the dataset of total buildings.\n",
    "ClassWeights = [1, 5, 10, 15, 20, 30] \n",
    "\n",
    "\n",
    "for weight in ClassWeights:\n",
    "    svm_model = svm.LinearSVC(class_weight={1: weight, 0 : 1})\n",
    "    svm_model.fit(X_train, y_train)\n",
    "    predicted = svm_model.predict(X_test)\n",
    "    print metrics.classification_report(y_test,predicted )"
   ]
  },
  {
   "cell_type": "markdown",
   "metadata": {},
   "source": [
    "### Support Vector Classifier Results\n",
    "\n",
    "* Much higher recall, finding nearly 90% of cooling towers\n",
    "* We have to pay a price in precision for finding more towers, precision is only 23%\n",
    "* Still much better than picking randomly\n",
    "* Can tune class weights to dial-in the precision vs. recall we want\n",
    "\n"
   ]
  },
  {
   "cell_type": "code",
   "execution_count": 13,
   "metadata": {},
   "outputs": [
    {
     "name": "stdout",
     "output_type": "stream",
     "text": [
      "Recall 0.881\n",
      "Precision 0.230\n",
      "0.007 of buildings sampled have towers\n"
     ]
    }
   ],
   "source": [
    "ModelSummary(y_test, predicted)"
   ]
  },
  {
   "cell_type": "markdown",
   "metadata": {},
   "source": [
    "# Postscript\n",
    "\n",
    "One obvious conclusion is the trade-off between precision and recall, which amounts to asking oneself *\"how many false positives am I willing to tolerate in order to find every true positive (cooling tower).\"* The answer to this kind of question is more often than not dependant on a (non-technical) operational constraint, which could stem from many factors such as the resources available or relative priorities of competing goals. \n",
    "\n",
    "### Try it for yourself\n",
    "\n",
    "These models are very basic and a reflection of time and resource constraints during the Legionnaires' disease activation. Playing with different types of models, cross-validation, hyperparameter tuning, etc. would surely produce an improved model. If you find one, let us know!\n",
    "\n"
   ]
  }
 ],
 "metadata": {
  "kernelspec": {
   "display_name": "Python 2",
   "language": "python",
   "name": "python2"
  },
  "language_info": {
   "codemirror_mode": {
    "name": "ipython",
    "version": 2
   },
   "file_extension": ".py",
   "mimetype": "text/x-python",
   "name": "python",
   "nbconvert_exporter": "python",
   "pygments_lexer": "ipython2",
   "version": "2.7.13"
  }
 },
 "nbformat": 4,
 "nbformat_minor": 1
}
